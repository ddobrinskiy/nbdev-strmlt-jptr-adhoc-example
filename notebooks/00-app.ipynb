{
 "cells": [
  {
   "attachments": {},
   "cell_type": "markdown",
   "metadata": {},
   "source": [
    "# App\n",
    "\n",
    "> This notebook create the root `app.py` script"
   ]
  },
  {
   "cell_type": "code",
   "execution_count": null,
   "metadata": {
    "vscode": {
     "languageId": "python"
    }
   },
   "outputs": [],
   "source": [
    "#| default_exp app"
   ]
  },
  {
   "cell_type": "code",
   "execution_count": null,
   "metadata": {
    "vscode": {
     "languageId": "python"
    }
   },
   "outputs": [
    {
     "data": {
      "text/markdown": [
       "# This is a demonstration of using streamlit for jupyter notebooks"
      ],
      "text/plain": [
       "<IPython.core.display.Markdown object>"
      ]
     },
     "metadata": {},
     "output_type": "display_data"
    },
    {
     "data": {
      "text/markdown": [
       "Every page can be a separate dashbord/adhoc ticket, or a part of a larger dashboard"
      ],
      "text/plain": [
       "<IPython.core.display.Markdown object>"
      ]
     },
     "metadata": {},
     "output_type": "display_data"
    },
    {
     "data": {
      "text/markdown": [
       "\n",
       "This will allow a team of data scientist to work in a single repo and:\n",
       "\n",
       "- share code (this monorepo can also contain internal packages re-shared across projects)\n",
       "- easily share their work with non-technical colleagues\n",
       "- DRY (just write one single notebook, no need to port it to a dashboard)\n",
       "- add sliders/filters to adhoc tickets, thus making them more interactive (non-tech colleagues can self-serve)\n",
       "\n"
      ],
      "text/plain": [
       "<IPython.core.display.Markdown object>"
      ]
     },
     "metadata": {},
     "output_type": "display_data"
    }
   ],
   "source": [
    "#| exporti\n",
    "\n",
    "import streamlit as st\n",
    "\n",
    "from streamlit_jupyter import StreamlitPatcher, tqdm\n",
    "\n",
    "StreamlitPatcher().jupyter()  # register streamlit with jupyter-compatible wrappers\n",
    "\n",
    "\n",
    "st.title(\"This is a demonstration of using streamlit for jupyter notebooks\")\n",
    "\n",
    "st.write(\"Every page can be a separate dashbord/adhoc ticket, or a part of a larger dashboard\")\n",
    "st.markdown(\"\"\"\n",
    "This will allow a team of data scientist to work in a single repo and:\n",
    "\n",
    "- share code (this monorepo can also contain internal packages re-shared across projects)\n",
    "- easily share their work with non-technical colleagues\n",
    "- DRY (just write one single notebook, no need to port it to a dashboard)\n",
    "- add sliders/filters to adhoc tickets, thus making them more interactive (non-tech colleagues can self-serve)\n",
    "\n",
    "\"\"\")"
   ]
  },
  {
   "cell_type": "code",
   "execution_count": null,
   "metadata": {
    "vscode": {
     "languageId": "python"
    }
   },
   "outputs": [
    {
     "data": {
      "text/markdown": [
       "cwd = /Users/david/proj/nbdev-strmlt-jptr-adhoc-example/notebooks"
      ],
      "text/plain": [
       "<IPython.core.display.Markdown object>"
      ]
     },
     "metadata": {},
     "output_type": "display_data"
    },
    {
     "data": {
      "text/markdown": [
       "path = /Users/david/proj/nbdev-strmlt-jptr-adhoc-example/src/pages"
      ],
      "text/plain": [
       "<IPython.core.display.Markdown object>"
      ]
     },
     "metadata": {},
     "output_type": "display_data"
    },
    {
     "data": {
      "text/markdown": [
       "pages = ['DS-1', 'DS-2', 'quarterly_dashboard']"
      ],
      "text/plain": [
       "<IPython.core.display.Markdown object>"
      ]
     },
     "metadata": {},
     "output_type": "display_data"
    },
    {
     "data": {
      "text/markdown": [
       "## Table of contents:"
      ],
      "text/plain": [
       "<IPython.core.display.Markdown object>"
      ]
     },
     "metadata": {},
     "output_type": "display_data"
    },
    {
     "data": {
      "text/markdown": [
       "- [DS-1](./DS-1)\n",
       "- [DS-2](./DS-2)\n",
       "- [quarterly_dashboard](./quarterly_dashboard)\n"
      ],
      "text/plain": [
       "<IPython.core.display.Markdown object>"
      ]
     },
     "metadata": {},
     "output_type": "display_data"
    }
   ],
   "source": [
    "#|exporti\n",
    "from pathlib import Path\n",
    "cwd = Path.cwd()\n",
    "if \"notebooks\" in cwd.name:\n",
    "    path = cwd.parent/'src'/'pages'\n",
    "else:\n",
    "    path = cwd/'src'/'pages'\n",
    "\n",
    "pagenames = sorted([f.name.split('.')[0] for f in path.glob(\"*.py\") if not f.name.startswith(\"_\")])\n",
    "\n",
    "st.header(\"Table of contents:\")\n",
    "toc = ''\n",
    "for page in pagenames:\n",
    "    toc += f'- [{page}](./{page})\\n'\n",
    "\n",
    "st.markdown(toc)"
   ]
  },
  {
   "cell_type": "code",
   "execution_count": null,
   "metadata": {
    "vscode": {
     "languageId": "python"
    }
   },
   "outputs": [],
   "source": [
    "#| hide\n",
    "import nbdev; nbdev.nbdev_export()"
   ]
  },
  {
   "cell_type": "code",
   "execution_count": null,
   "metadata": {
    "vscode": {
     "languageId": "python"
    }
   },
   "outputs": [],
   "source": [
    "!nbconvert blah blah ../src/pages/app.py"
   ]
  }
 ],
 "metadata": {
  "kernelspec": {
   "display_name": "python3",
   "language": "python",
   "name": "python3"
  }
 },
 "nbformat": 4,
 "nbformat_minor": 4
}
